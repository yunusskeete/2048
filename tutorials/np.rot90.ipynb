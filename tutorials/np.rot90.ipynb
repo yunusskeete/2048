{
 "cells": [
  {
   "cell_type": "markdown",
   "metadata": {},
   "source": [
    "# np.rot90()\n",
    "\n",
    "A visual walkthrough [`numpy.rot90()`](https://numpy.org/doc/stable/reference/generated/numpy.rot90.html) function used in this minimal implementation of the 2048 game."
   ]
  },
  {
   "cell_type": "code",
   "execution_count": 1,
   "metadata": {},
   "outputs": [],
   "source": [
    "import numpy as np"
   ]
  },
  {
   "cell_type": "code",
   "execution_count": 2,
   "metadata": {},
   "outputs": [
    {
     "data": {
      "text/plain": [
       "array([[2, 0, 0, 2],\n",
       "       [0, 0, 0, 0],\n",
       "       [0, 2, 4, 4],\n",
       "       [8, 0, 8, 8]])"
      ]
     },
     "execution_count": 2,
     "metadata": {},
     "output_type": "execute_result"
    }
   ],
   "source": [
    "# Generate a feasible 2048 board state as a numpy array\n",
    "x = np.array([2,0,0,2, 0,0,0,0, 0,2,4,4, 8,0,8,8]).reshape((4,4))\n",
    "x"
   ]
  },
  {
   "cell_type": "markdown",
   "metadata": {},
   "source": [
    "## Visualising Rotations"
   ]
  },
  {
   "cell_type": "code",
   "execution_count": 3,
   "metadata": {},
   "outputs": [
    {
     "data": {
      "text/plain": [
       "array([[2, 0, 4, 8],\n",
       "       [0, 0, 4, 8],\n",
       "       [0, 0, 2, 0],\n",
       "       [2, 0, 0, 8]])"
      ]
     },
     "execution_count": 3,
     "metadata": {},
     "output_type": "execute_result"
    }
   ],
   "source": [
    "# Standard 90 deg rotation\n",
    "np.rot90(x)"
   ]
  },
  {
   "cell_type": "code",
   "execution_count": 4,
   "metadata": {},
   "outputs": [
    {
     "data": {
      "text/plain": [
       "[('UP (W)',\n",
       "  array([[2, 0, 0, 2],\n",
       "         [0, 0, 0, 0],\n",
       "         [0, 2, 4, 4],\n",
       "         [8, 0, 8, 8]])),\n",
       " ('LEFT (A)',\n",
       "  array([[2, 0, 4, 8],\n",
       "         [0, 0, 4, 8],\n",
       "         [0, 0, 2, 0],\n",
       "         [2, 0, 0, 8]])),\n",
       " ('DOWN (S)',\n",
       "  array([[8, 8, 0, 8],\n",
       "         [4, 4, 2, 0],\n",
       "         [0, 0, 0, 0],\n",
       "         [2, 0, 0, 2]])),\n",
       " ('RIGHT (D)',\n",
       "  array([[8, 0, 0, 2],\n",
       "         [0, 2, 0, 0],\n",
       "         [8, 4, 0, 0],\n",
       "         [8, 4, 0, 2]]))]"
      ]
     },
     "execution_count": 4,
     "metadata": {},
     "output_type": "execute_result"
    }
   ],
   "source": [
    "import sys\n",
    "sys.path.append('..')\n",
    "\n",
    "from utils import actions\n",
    "\n",
    "# 2048 game actions\n",
    "action_annotations = {\n",
    "    \"W\": \"UP\",\n",
    "    \"A\": \"LEFT\",\n",
    "    \"S\": \"DOWN\",\n",
    "    \"D\": \"RIGHT\"\n",
    "}\n",
    "\n",
    "# Visualisation of rotation for each move\n",
    "list(zip([f\"{action_annotations[action]} ({action})\" for action in actions.keys()], [np.rot90(x, k=action) for action in range(4)]))"
   ]
  },
  {
   "cell_type": "code",
   "execution_count": 5,
   "metadata": {},
   "outputs": [
    {
     "name": "stdout",
     "output_type": "stream",
     "text": [
      "board:\n",
      "[[2 0 0 2]\n",
      " [0 0 0 0]\n",
      " [0 2 4 4]\n",
      " [8 0 8 8]]\n",
      "\n",
      "rotated_board:\n",
      "[[2 0 0 2]\n",
      " [0 0 0 0]\n",
      " [0 2 4 4]\n",
      " [8 0 8 8]]\n"
     ]
    }
   ],
   "source": [
    "action = \"A\"\n",
    "\n",
    "board = np.copy(x)\n",
    "print(f\"board:\\n{board}\\n\")\n",
    "rotated_board = np.rot90(np.copy(board), -actions[action])\n",
    "print(f\"rotated_board:\\n{rotated_board}\")"
   ]
  },
  {
   "cell_type": "markdown",
   "metadata": {},
   "source": [
    "## Visualising 2048 Actions"
   ]
  },
  {
   "cell_type": "code",
   "execution_count": 6,
   "metadata": {},
   "outputs": [
    {
     "name": "stdout",
     "output_type": "stream",
     "text": [
      "'LEFT' slice:\n",
      "[2 0 0 2]\n",
      "\n",
      "non zero row: [2 2]\n",
      "zero padding: [0. 0.]\n",
      "\n",
      "'LEFT' slide action:\n",
      "[2. 2. 0. 0.]\n",
      "\n"
     ]
    }
   ],
   "source": [
    "i = 0\n",
    "\n",
    "row = rotated_board[i, :]\n",
    "print(f\"'{action_annotations[action]}' slice:\\n{row}\\n\")\n",
    "print(f\"non zero row: {row[row != 0]}\")\n",
    "print(f\"zero padding: {np.zeros(4 - np.count_nonzero(row))}\\n\")\n",
    "row = np.concatenate((row[row != 0], np.zeros(4 - np.count_nonzero(row))))\n",
    "print(f\"'{action_annotations[action]}' slide action:\\n{row}\\n\")"
   ]
  },
  {
   "cell_type": "code",
   "execution_count": 7,
   "metadata": {},
   "outputs": [
    {
     "name": "stdout",
     "output_type": "stream",
     "text": [
      "aggregated row: [4. 0. 0. 0.]\n",
      "\n",
      "slice update:\n",
      "[[4 0 0 0]\n",
      " [0 0 0 0]\n",
      " [0 2 4 4]\n",
      " [8 0 8 8]]\n"
     ]
    }
   ],
   "source": [
    "for j in range(3):\n",
    "    if row[j] == row[j + 1]:\n",
    "        row[j] *= 2\n",
    "        row[j + 1] = 0\n",
    "print(f\"aggregated row: {row}\\n\")\n",
    "\n",
    "row = row[row != 0]\n",
    "row = np.concatenate((row, np.zeros(4 - len(row))))\n",
    "rotated_board[i, :] = row\n",
    "print(f\"slice update:\\n{rotated_board}\")"
   ]
  },
  {
   "cell_type": "code",
   "execution_count": 8,
   "metadata": {},
   "outputs": [
    {
     "name": "stdout",
     "output_type": "stream",
     "text": [
      "'LEFT' slice:\n",
      "[0 0 0 0]\n",
      "\n",
      "non zero row: []\n",
      "zero padding: [0. 0. 0. 0.]\n",
      "\n",
      "'LEFT' slide action:\n",
      "[0. 0. 0. 0.]\n",
      "\n",
      "aggregated row: [0. 0. 0. 0.]\n",
      "\n",
      "slice update:\n",
      "[[4 0 0 0]\n",
      " [0 0 0 0]\n",
      " [0 2 4 4]\n",
      " [8 0 8 8]]\n"
     ]
    }
   ],
   "source": [
    "i = 1\n",
    "\n",
    "row = rotated_board[i, :]\n",
    "print(f\"'{action_annotations[action]}' slice:\\n{row}\\n\")\n",
    "print(f\"non zero row: {row[row != 0]}\")\n",
    "print(f\"zero padding: {np.zeros(4 - np.count_nonzero(row))}\\n\")\n",
    "row = np.concatenate((row[row != 0], np.zeros(4 - np.count_nonzero(row))))\n",
    "print(f\"'{action_annotations[action]}' slide action:\\n{row}\\n\")\n",
    "\n",
    "for j in range(3):\n",
    "    if row[j] == row[j + 1]:\n",
    "        row[j] *= 2\n",
    "        row[j + 1] = 0\n",
    "print(f\"aggregated row: {row}\\n\")\n",
    "\n",
    "row = row[row != 0]\n",
    "row = np.concatenate((row, np.zeros(4 - len(row))))\n",
    "rotated_board[i, :] = row\n",
    "print(f\"slice update:\\n{rotated_board}\")"
   ]
  },
  {
   "cell_type": "code",
   "execution_count": 9,
   "metadata": {},
   "outputs": [
    {
     "name": "stdout",
     "output_type": "stream",
     "text": [
      "'LEFT' slice:\n",
      "[0 2 4 4]\n",
      "\n",
      "non zero row: [2 4 4]\n",
      "zero padding: [0.]\n",
      "\n",
      "'LEFT' slide action:\n",
      "[2. 4. 4. 0.]\n",
      "\n",
      "aggregated row: [2. 8. 0. 0.]\n",
      "\n",
      "slice update:\n",
      "[[4 0 0 0]\n",
      " [0 0 0 0]\n",
      " [2 8 0 0]\n",
      " [8 0 8 8]]\n"
     ]
    }
   ],
   "source": [
    "i = 2\n",
    "\n",
    "row = rotated_board[i, :]\n",
    "print(f\"'{action_annotations[action]}' slice:\\n{row}\\n\")\n",
    "print(f\"non zero row: {row[row != 0]}\")\n",
    "print(f\"zero padding: {np.zeros(4 - np.count_nonzero(row))}\\n\")\n",
    "row = np.concatenate((row[row != 0], np.zeros(4 - np.count_nonzero(row))))\n",
    "print(f\"'{action_annotations[action]}' slide action:\\n{row}\\n\")\n",
    "\n",
    "for j in range(3):\n",
    "    if row[j] == row[j + 1]:\n",
    "        row[j] *= 2\n",
    "        row[j + 1] = 0\n",
    "print(f\"aggregated row: {row}\\n\")\n",
    "\n",
    "row = row[row != 0]\n",
    "row = np.concatenate((row, np.zeros(4 - len(row))))\n",
    "rotated_board[i, :] = row\n",
    "print(f\"slice update:\\n{rotated_board}\")"
   ]
  },
  {
   "cell_type": "code",
   "execution_count": 10,
   "metadata": {},
   "outputs": [
    {
     "name": "stdout",
     "output_type": "stream",
     "text": [
      "'LEFT' slice:\n",
      "[8 0 8 8]\n",
      "\n",
      "non zero row: [8 8 8]\n",
      "zero padding: [0.]\n",
      "\n",
      "'LEFT' slide action:\n",
      "[8. 8. 8. 0.]\n",
      "\n",
      "aggregated row: [16.  0.  8.  0.]\n",
      "\n",
      "slice update:\n",
      "[[ 4  0  0  0]\n",
      " [ 0  0  0  0]\n",
      " [ 2  8  0  0]\n",
      " [16  8  0  0]]\n"
     ]
    }
   ],
   "source": [
    "i = 3\n",
    "\n",
    "row = rotated_board[i, :]\n",
    "print(f\"'{action_annotations[action]}' slice:\\n{row}\\n\")\n",
    "print(f\"non zero row: {row[row != 0]}\")\n",
    "print(f\"zero padding: {np.zeros(4 - np.count_nonzero(row))}\\n\")\n",
    "row = np.concatenate((row[row != 0], np.zeros(4 - np.count_nonzero(row))))\n",
    "print(f\"'{action_annotations[action]}' slide action:\\n{row}\\n\")\n",
    "\n",
    "for j in range(3):\n",
    "    if row[j] == row[j + 1]:\n",
    "        row[j] *= 2\n",
    "        row[j + 1] = 0\n",
    "print(f\"aggregated row: {row}\\n\")\n",
    "\n",
    "row = row[row != 0]\n",
    "row = np.concatenate((row, np.zeros(4 - len(row))))\n",
    "rotated_board[i, :] = row\n",
    "print(f\"slice update:\\n{rotated_board}\")"
   ]
  },
  {
   "cell_type": "code",
   "execution_count": 11,
   "metadata": {},
   "outputs": [
    {
     "name": "stdout",
     "output_type": "stream",
     "text": [
      "board:\n",
      "[[2 0 0 2]\n",
      " [0 0 0 0]\n",
      " [0 2 4 4]\n",
      " [8 0 8 8]]\n",
      "\n",
      "rotated_board:\n",
      "[[ 4  0  0  0]\n",
      " [ 0  0  0  0]\n",
      " [ 2  8  0  0]\n",
      " [16  8  0  0]]\n"
     ]
    }
   ],
   "source": [
    "board = np.array([2,0,0,2, 0,0,0,0, 0,2,4,4, 8,0,8,8]).reshape((4,4))\n",
    "print(f\"board:\\n{board}\\n\")\n",
    "rotated_board = np.rot90(np.array([2,0,0,2, 0,0,0,0, 0,2,4,4, 8,0,8,8]).reshape((4,4)), -actions[action])\n",
    "\n",
    "for i in range(4):\n",
    "    row = rotated_board[i, :]\n",
    "    row = np.concatenate((row[row != 0], np.zeros(4 - np.count_nonzero(row))))\n",
    "\n",
    "    for j in range(3):\n",
    "        if row[j] == row[j + 1]:\n",
    "            row[j] *= 2\n",
    "            row[j + 1] = 0\n",
    "\n",
    "    row = row[row != 0]\n",
    "    row = np.concatenate((row, np.zeros(4 - len(row))))\n",
    "    rotated_board[i, :] = row\n",
    "\n",
    "print(f\"rotated_board:\\n{rotated_board}\")"
   ]
  },
  {
   "cell_type": "code",
   "execution_count": 12,
   "metadata": {},
   "outputs": [
    {
     "name": "stdout",
     "output_type": "stream",
     "text": [
      "('LEFT') updated_board:\n",
      "[[ 4  0  0  0]\n",
      " [ 0  0  0  0]\n",
      " [ 2  8  0  0]\n",
      " [16  8  0  0]]\n"
     ]
    }
   ],
   "source": [
    "updated_board = np.rot90(rotated_board, actions[action])\n",
    "print(f\"('{action_annotations[action]}') updated_board:\\n{updated_board}\")"
   ]
  },
  {
   "cell_type": "code",
   "execution_count": null,
   "metadata": {},
   "outputs": [],
   "source": []
  }
 ],
 "metadata": {
  "kernelspec": {
   "display_name": "2048",
   "language": "python",
   "name": "python3"
  },
  "language_info": {
   "codemirror_mode": {
    "name": "ipython",
    "version": 3
   },
   "file_extension": ".py",
   "mimetype": "text/x-python",
   "name": "python",
   "nbconvert_exporter": "python",
   "pygments_lexer": "ipython3",
   "version": "3.7.12"
  }
 },
 "nbformat": 4,
 "nbformat_minor": 2
}
